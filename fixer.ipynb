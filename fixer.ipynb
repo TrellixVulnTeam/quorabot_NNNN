{
 "cells": [
  {
   "cell_type": "code",
   "execution_count": 1,
   "metadata": {
    "collapsed": true
   },
   "outputs": [],
   "source": [
    "import numpy as np"
   ]
  },
  {
   "cell_type": "code",
   "execution_count": 2,
   "metadata": {
    "collapsed": true
   },
   "outputs": [],
   "source": [
    "import json_lines as jl"
   ]
  },
  {
   "cell_type": "code",
   "execution_count": 3,
   "metadata": {
    "collapsed": true
   },
   "outputs": [],
   "source": [
    "import pandas as pd"
   ]
  },
  {
   "cell_type": "code",
   "execution_count": 4,
   "metadata": {
    "collapsed": true
   },
   "outputs": [],
   "source": [
    "import re\n",
    "noaq = re.compile('\\?$')\n",
    "noacom = re.compile('\\.{3}$')"
   ]
  },
  {
   "cell_type": "code",
   "execution_count": 5,
   "metadata": {
    "collapsed": true
   },
   "outputs": [],
   "source": [
    "raw_data = []\n",
    "with open('i.jl', 'r') as f:\n",
    "    for item in jl.reader(f):\n",
    "        raw_data.append(item)"
   ]
  },
  {
   "cell_type": "code",
   "execution_count": 6,
   "metadata": {
    "collapsed": true
   },
   "outputs": [],
   "source": [
    "topics = {}\n",
    "for i in raw_data:\n",
    "    for t in i['topic']:\n",
    "        if t not in topics:\n",
    "            topics[t] = 1\n",
    "        else:\n",
    "            topics[t] += 1"
   ]
  },
  {
   "cell_type": "code",
   "execution_count": 7,
   "metadata": {},
   "outputs": [
    {
     "name": "stdout",
     "output_type": "stream",
     "text": [
      "Career Advice:  6175\n",
      "Exams and Tests:  5390\n",
      "Dating and Relationships:  3989\n",
      "College Advice:  3726\n",
      "Life Advice:  3678\n",
      "India:  3454\n",
      "Medicine and Healthcare:  3448\n",
      "Jobs and Careers:  3327\n",
      "Interpersonal Interaction:  3287\n",
      "Dating Advice:  2954\n",
      "Human Behavior:  2869\n",
      "Life and Living:  2665\n",
      "Physics:  2591\n",
      "Computer Programming:  2583\n",
      "Personal Question:  2532\n",
      "Politics of the United States of America:  2525\n",
      "Education:  2457\n",
      "The United States of America:  2260\n",
      "Religion:  2136\n",
      "Philosophy of Everyday Life:  2030\n",
      "Relationship Advice:  1922\n",
      "Mathematics:  1809\n",
      "Health:  1678\n",
      "Donald Trump (politician, business person):  1647\n",
      "Colleges and Universities:  1581\n",
      "Understanding Human Behavior:  1535\n",
      "Quora:  1515\n",
      "Joint Entrance Examination (JEE):  1507\n",
      "Food:  1463\n",
      "Engineering:  1448\n",
      "Money:  1420\n",
      "Investing:  1383\n",
      "Chemistry:  1383\n",
      "Cars and Automobiles:  1381\n",
      "Hypothetical Scenarios:  1380\n",
      "Psychology of Everyday Life:  1359\n",
      "Music:  1350\n",
      "Love:  1332\n",
      "History:  1329\n",
      "Books:  1312\n",
      "Movies:  1311\n",
      "Web Development:  1295\n",
      "English (language):  1283\n",
      "Smartphones:  1281\n",
      "College and University Admissions:  1207\n",
      "Visiting and Travel:  1175\n",
      "Programming Languages:  1147\n",
      "Mental Health:  1111\n",
      "Startup Advice and Strategy:  1105\n",
      "Self-Improvement:  1104\n"
     ]
    }
   ],
   "source": [
    "for i in sorted(topics, key=topics.get, reverse=True)[:50]:\n",
    "    print(i+': ', str(topics[i]))"
   ]
  },
  {
   "cell_type": "code",
   "execution_count": 8,
   "metadata": {},
   "outputs": [
    {
     "data": {
      "text/plain": [
       "{'a': [\"Carly, I thank you for the A2A but I failed badly. No clue. Guess I could have researched it but that isn't fair. Nope, nada. Am embarrassed, I guess am out of the club now.\",\n",
       "  \"Carly, I thank you for the A2A but I failed badly. No clue. Guess I could have researched it but that isn't fair. Nope, nada. Am embarrassed, I guess am out of the club now.\"],\n",
       " 'q': ['Do you remember mistaking ripjaws from Ben 10 for a mermaid?'],\n",
       " 'topic': ['Ripjaws',\n",
       "  'Ben 10 (creative franchise)',\n",
       "  'Mermaids',\n",
       "  'Childhood Memories',\n",
       "  'Cartoons']}"
      ]
     },
     "execution_count": 8,
     "metadata": {},
     "output_type": "execute_result"
    }
   ],
   "source": [
    "raw_data[0]"
   ]
  },
  {
   "cell_type": "code",
   "execution_count": 9,
   "metadata": {
    "collapsed": true
   },
   "outputs": [],
   "source": [
    "def cleanup(data):\n",
    "    arr_e = []\n",
    "    n = 0\n",
    "    # data = list(set(data))\n",
    "    for i in data:\n",
    "        try:\n",
    "            i['q'] = i['q'][0]\n",
    "        except:\n",
    "            arr_e.append(n)\n",
    "            continue\n",
    "        arr = []\n",
    "        for a in i['a']:\n",
    "            try:\n",
    "                if a!='\\n' and a[-1]!='?' and a[-3]!='.' and a!='Footnotes':\n",
    "                    arr.append(a)\n",
    "                else:\n",
    "                    pass\n",
    "            except:\n",
    "                pass\n",
    "        i['a'] = list(set(arr))\n",
    "        n+=1\n",
    "    return data, arr_e"
   ]
  },
  {
   "cell_type": "code",
   "execution_count": 10,
   "metadata": {
    "collapsed": true
   },
   "outputs": [],
   "source": [
    "data, arr_e = cleanup(raw_data)"
   ]
  },
  {
   "cell_type": "code",
   "execution_count": 11,
   "metadata": {},
   "outputs": [
    {
     "data": {
      "text/plain": [
       "139498"
      ]
     },
     "execution_count": 11,
     "metadata": {},
     "output_type": "execute_result"
    }
   ],
   "source": [
    "len(data)"
   ]
  },
  {
   "cell_type": "code",
   "execution_count": 12,
   "metadata": {
    "collapsed": true
   },
   "outputs": [],
   "source": [
    "for i in arr_e:\n",
    "    data.remove(data[i])"
   ]
  },
  {
   "cell_type": "code",
   "execution_count": 13,
   "metadata": {
    "collapsed": true
   },
   "outputs": [],
   "source": [
    "frame = pd.DataFrame(columns=['q', 'a'])"
   ]
  },
  {
   "cell_type": "code",
   "execution_count": null,
   "metadata": {
    "collapsed": true
   },
   "outputs": [],
   "source": [
    "c_q = 0\n",
    "c = 0\n",
    "for i in data:\n",
    "    c_q+=1\n",
    "    for n in i['a']:\n",
    "        frame.loc[c] = [i['q'], n]\n",
    "        #print(c)\n",
    "        c+=1\n",
    "    if c_q%1000==0:\n",
    "        print('QUES: '+str(c_q))"
   ]
  },
  {
   "cell_type": "code",
   "execution_count": null,
   "metadata": {
    "collapsed": true
   },
   "outputs": [],
   "source": [
    "with open('temp.tsv', 'w') as temp:\n",
    "    frame.to_csv(temp, sep='\\t')"
   ]
  },
  {
   "cell_type": "code",
   "execution_count": null,
   "metadata": {
    "collapsed": true
   },
   "outputs": [],
   "source": [
    "frame.describe()"
   ]
  },
  {
   "cell_type": "code",
   "execution_count": 14,
   "metadata": {
    "collapsed": true
   },
   "outputs": [],
   "source": [
    "def prepare(data):\n",
    "    d = {}\n",
    "    c = 0\n",
    "    for i in data:\n",
    "        for n in i['a']:\n",
    "            d[c] = {'q': i['q'], 'a': n}\n",
    "            c+=1\n",
    "    return d"
   ]
  },
  {
   "cell_type": "code",
   "execution_count": 15,
   "metadata": {
    "collapsed": true
   },
   "outputs": [],
   "source": [
    "todict = prepare(data)"
   ]
  },
  {
   "cell_type": "code",
   "execution_count": 16,
   "metadata": {
    "collapsed": true
   },
   "outputs": [],
   "source": [
    "frame = frame.from_dict(todict, orient='index')"
   ]
  },
  {
   "cell_type": "code",
   "execution_count": 17,
   "metadata": {},
   "outputs": [
    {
     "data": {
      "text/html": [
       "<div>\n",
       "<table border=\"1\" class=\"dataframe\">\n",
       "  <thead>\n",
       "    <tr style=\"text-align: right;\">\n",
       "      <th></th>\n",
       "      <th>a</th>\n",
       "      <th>q</th>\n",
       "    </tr>\n",
       "  </thead>\n",
       "  <tbody>\n",
       "    <tr>\n",
       "      <th>count</th>\n",
       "      <td>1521712</td>\n",
       "      <td>1521712</td>\n",
       "    </tr>\n",
       "    <tr>\n",
       "      <th>unique</th>\n",
       "      <td>1057222</td>\n",
       "      <td>102542</td>\n",
       "    </tr>\n",
       "    <tr>\n",
       "      <th>top</th>\n",
       "      <td>Good luck!</td>\n",
       "      <td>What's the easiest way to make money online?</td>\n",
       "    </tr>\n",
       "    <tr>\n",
       "      <th>freq</th>\n",
       "      <td>1068</td>\n",
       "      <td>1808</td>\n",
       "    </tr>\n",
       "  </tbody>\n",
       "</table>\n",
       "</div>"
      ],
      "text/plain": [
       "                 a                                             q\n",
       "count      1521712                                       1521712\n",
       "unique     1057222                                        102542\n",
       "top     Good luck!  What's the easiest way to make money online?\n",
       "freq          1068                                          1808"
      ]
     },
     "execution_count": 17,
     "metadata": {},
     "output_type": "execute_result"
    }
   ],
   "source": [
    "frame.describe()"
   ]
  },
  {
   "cell_type": "code",
   "execution_count": null,
   "metadata": {
    "collapsed": true
   },
   "outputs": [],
   "source": [
    "def get_vocabs(data):\n",
    "    arr_en = []\n",
    "    arr_fr = []\n",
    "    count = 0\n",
    "    for i in data:\n",
    "        arr_en.extend(i['q'].split(' '))\n",
    "        for n in i['a']:\n",
    "            arr_fr.extend(n.split(' '))\n",
    "        if count%100==0:\n",
    "            arr_en=list(set(arr_en))\n",
    "            arr_fr=list(set(arr_fr))\n",
    "            print(count)\n",
    "        count+=1\n",
    "    return len(list(set(arr_en))), len(list(set(arr_fr)))"
   ]
  },
  {
   "cell_type": "code",
   "execution_count": null,
   "metadata": {
    "collapsed": true
   },
   "outputs": [],
   "source": [
    "print(get_vocabs(data))"
   ]
  },
  {
   "cell_type": "code",
   "execution_count": null,
   "metadata": {
    "collapsed": true
   },
   "outputs": [],
   "source": [
    "def get_q_vocab(data):\n",
    "    arr_en = []\n",
    "    arr_fr = []\n",
    "    count = 0\n",
    "    for i in data:\n",
    "        arr_en.extend(i['q'].split(' '))\n",
    "        if count%100==0:\n",
    "            arr_en=list(set(arr_en))\n",
    "            arr_fr=list(set(arr_fr))\n",
    "            print(count)\n",
    "        count+=1\n",
    "    return list(set(arr_en))"
   ]
  },
  {
   "cell_type": "code",
   "execution_count": null,
   "metadata": {},
   "outputs": [],
   "source": [
    "data[0]"
   ]
  },
  {
   "cell_type": "code",
   "execution_count": null,
   "metadata": {},
   "outputs": [],
   "source": [
    "len(get_q_vocab(data))"
   ]
  },
  {
   "cell_type": "code",
   "execution_count": null,
   "metadata": {
    "collapsed": true
   },
   "outputs": [],
   "source": [
    "def get_a_vocab(data):\n",
    "    arr_en = []\n",
    "    arr_fr = []\n",
    "    count = 0\n",
    "    for i in data:\n",
    "        for n in i['a']:\n",
    "            arr_fr.extend(n.split(' '))\n",
    "            if count%10000==0:\n",
    "                arr_en=list(set(arr_en))\n",
    "                arr_fr=list(set(arr_fr))\n",
    "                print(count)\n",
    "            count+=1\n",
    "    return list(set(arr_fr))"
   ]
  },
  {
   "cell_type": "code",
   "execution_count": null,
   "metadata": {},
   "outputs": [],
   "source": [
    "len(get_a_vocab(data))"
   ]
  },
  {
   "cell_type": "code",
   "execution_count": null,
   "metadata": {
    "collapsed": true
   },
   "outputs": [],
   "source": [
    "def get_len(s):\n",
    "    return(len(s.split(' ')))"
   ]
  },
  {
   "cell_type": "code",
   "execution_count": null,
   "metadata": {},
   "outputs": [],
   "source": [
    "frame['lenq'] = [len(i.split(' ')) for i in frame['q']]"
   ]
  },
  {
   "cell_type": "code",
   "execution_count": null,
   "metadata": {},
   "outputs": [],
   "source": [
    "frame[:50]"
   ]
  },
  {
   "cell_type": "code",
   "execution_count": null,
   "metadata": {
    "collapsed": true
   },
   "outputs": [],
   "source": [
    "frame['lena'] = [len(i.split(' ')) for i in frame['a']]"
   ]
  },
  {
   "cell_type": "code",
   "execution_count": null,
   "metadata": {
    "collapsed": true
   },
   "outputs": [],
   "source": [
    "from sklearn.cluster import KMeans"
   ]
  },
  {
   "cell_type": "code",
   "execution_count": null,
   "metadata": {},
   "outputs": [],
   "source": [
    "y_pred = KMeans(n_clusters=10).fit(frame[['lenq', 'lena']])"
   ]
  },
  {
   "cell_type": "code",
   "execution_count": null,
   "metadata": {},
   "outputs": [],
   "source": [
    "[np.array(frame['lenq']), np.array(frame['lena'])]"
   ]
  },
  {
   "cell_type": "code",
   "execution_count": null,
   "metadata": {},
   "outputs": [],
   "source": [
    "frame['class'] = y_pred.labels_"
   ]
  },
  {
   "cell_type": "code",
   "execution_count": null,
   "metadata": {},
   "outputs": [],
   "source": [
    "frame[frame['class']==0]['q']"
   ]
  },
  {
   "cell_type": "code",
   "execution_count": null,
   "metadata": {
    "collapsed": true
   },
   "outputs": [],
   "source": [
    "frame = frame.drop_duplicates()"
   ]
  },
  {
   "cell_type": "code",
   "execution_count": null,
   "metadata": {},
   "outputs": [],
   "source": [
    "for i in range(0, 9):\n",
    "    print(np.median(frame[frame['class']==i]['lenq']), np.median(frame[frame['class']==i]['lena']))"
   ]
  },
  {
   "cell_type": "code",
   "execution_count": 18,
   "metadata": {},
   "outputs": [],
   "source": [
    "from sklearn.model_selection import train_test_split as skspl"
   ]
  },
  {
   "cell_type": "code",
   "execution_count": 19,
   "metadata": {},
   "outputs": [],
   "source": [
    "X_train, X_test, y_train, y_test = skspl(frame['q'], frame['a'], test_size=0.01)"
   ]
  },
  {
   "cell_type": "code",
   "execution_count": 22,
   "metadata": {},
   "outputs": [],
   "source": [
    "en = open('big\\train.en', 'w')\n",
    "fr = open('big\\train.fr', 'w')\n",
    "for i in X_train:\n",
    "    en.write(i+'\\n')\n",
    "en.close()\n",
    "for i in y_train:\n",
    "    fr.write(i+'\\n')\n",
    "fr.close()"
   ]
  },
  {
   "cell_type": "code",
   "execution_count": null,
   "metadata": {
    "collapsed": true
   },
   "outputs": [],
   "source": []
  }
 ],
 "metadata": {
  "kernelspec": {
   "display_name": "Python 3",
   "language": "python",
   "name": "python3"
  },
  "language_info": {
   "codemirror_mode": {
    "name": "ipython",
    "version": 3
   },
   "file_extension": ".py",
   "mimetype": "text/x-python",
   "name": "python",
   "nbconvert_exporter": "python",
   "pygments_lexer": "ipython3",
   "version": "3.5.2"
  }
 },
 "nbformat": 4,
 "nbformat_minor": 2
}
