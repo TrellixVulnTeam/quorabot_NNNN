{
 "cells": [
  {
   "cell_type": "code",
   "execution_count": 1,
   "metadata": {
    "collapsed": true
   },
   "outputs": [],
   "source": [
    "import json_lines"
   ]
  },
  {
   "cell_type": "code",
   "execution_count": 2,
   "metadata": {
    "collapsed": true
   },
   "outputs": [],
   "source": [
    "import json"
   ]
  },
  {
   "cell_type": "code",
   "execution_count": 3,
   "metadata": {
    "collapsed": true
   },
   "outputs": [],
   "source": [
    "import gensim"
   ]
  },
  {
   "cell_type": "code",
   "execution_count": 4,
   "metadata": {
    "collapsed": true
   },
   "outputs": [],
   "source": [
    "import re"
   ]
  },
  {
   "cell_type": "code",
   "execution_count": 5,
   "metadata": {
    "collapsed": true
   },
   "outputs": [],
   "source": [
    "import numpy as np"
   ]
  },
  {
   "cell_type": "code",
   "execution_count": 6,
   "metadata": {
    "collapsed": true
   },
   "outputs": [],
   "source": [
    "from string import punctuation\n",
    "translation = str.maketrans(\"\",\"\", punctuation)"
   ]
  },
  {
   "cell_type": "code",
   "execution_count": 7,
   "metadata": {
    "collapsed": true
   },
   "outputs": [],
   "source": [
    "data = []\n",
    "with open('items.jl', 'r') as f:\n",
    "    for item in json_lines.reader(f):\n",
    "        data.append(item)"
   ]
  },
  {
   "cell_type": "code",
   "execution_count": 8,
   "metadata": {
    "collapsed": true
   },
   "outputs": [],
   "source": [
    "topics = {}\n",
    "for i in data:\n",
    "    for t in i['topic']:\n",
    "        if t not in topics:\n",
    "            topics[t] = 1\n",
    "        else:\n",
    "            topics[t] += 1"
   ]
  },
  {
   "cell_type": "code",
   "execution_count": 9,
   "metadata": {
    "collapsed": true
   },
   "outputs": [
    {
     "name": "stdout",
     "output_type": "stream",
     "text": [
      "Career Advice:  77\n",
      "Exams and Tests:  75\n",
      "India:  60\n",
      "College Advice:  52\n",
      "Life Advice:  44\n",
      "Dating and Relationships:  43\n",
      "Jobs and Careers:  43\n",
      "Medicine and Healthcare:  38\n",
      "Politics of the United States of America:  38\n",
      "Physics:  35\n",
      "Computer Programming:  33\n",
      "Religion:  33\n",
      "Education:  32\n",
      "Life and Living:  31\n",
      "Dating Advice:  29\n",
      "Personal Question:  28\n",
      "Engineering:  26\n",
      "The United States of America:  26\n",
      "Human Behavior:  25\n",
      "Interpersonal Interaction:  25\n",
      "Food:  23\n",
      "Philosophy of Everyday Life:  22\n",
      "Mathematics:  22\n",
      "Chemistry:  21\n",
      "Psychology of Everyday Life:  20\n",
      "Relationship Advice:  20\n",
      "Pakistan:  20\n",
      "Cars and Automobiles:  19\n",
      "Quora:  19\n",
      "Donald Trump (politician, business person):  19\n",
      "International Relations:  18\n",
      "English (language):  18\n",
      "Business:  18\n",
      "Colleges and Universities:  17\n",
      "Books:  17\n",
      "Smartphones:  17\n",
      "College and University Admissions:  17\n",
      "Studying:  17\n",
      "Countries of the World:  16\n",
      "Health:  16\n",
      "Banking:  16\n",
      "Web Development:  16\n",
      "Learning to Program:  15\n",
      "Politics:  15\n",
      "Programming Languages:  15\n",
      "Startup Advice and Strategy:  15\n",
      "Social Media:  15\n",
      "Emotions:  15\n",
      "Football (Soccer):  15\n",
      "Hypothetical Scenarios:  15\n"
     ]
    }
   ],
   "source": [
    "for i in sorted(topics, key=topics.get, reverse=True)[:50]:\n",
    "    print(i+': ', str(topics[i]))"
   ]
  },
  {
   "cell_type": "code",
   "execution_count": 9,
   "metadata": {
    "collapsed": true
   },
   "outputs": [],
   "source": [
    "noaq = re.compile('\\?$')\n",
    "noacom = re.compile('\\.{3}$')"
   ]
  },
  {
   "cell_type": "code",
   "execution_count": 10,
   "metadata": {
    "collapsed": true
   },
   "outputs": [],
   "source": [
    "data = data[1:]"
   ]
  },
  {
   "cell_type": "code",
   "execution_count": 11,
   "metadata": {
    "collapsed": true
   },
   "outputs": [],
   "source": [
    "def cleanup(data):\n",
    "    # data = list(set(data))\n",
    "    for i in data:\n",
    "        i['q'] = i['q'][0]\n",
    "        arr = []\n",
    "        for a in i['a']:\n",
    "            if not noaq.match(a) and not noacom.match(a):\n",
    "                arr.append(a)\n",
    "        i['a'] = ' '.join(arr)\n",
    "    return data"
   ]
  },
  {
   "cell_type": "code",
   "execution_count": 12,
   "metadata": {
    "collapsed": true
   },
   "outputs": [],
   "source": [
    "data = cleanup(data)"
   ]
  },
  {
   "cell_type": "code",
   "execution_count": 10,
   "metadata": {
    "collapsed": true
   },
   "outputs": [],
   "source": [
    "clean = open('clean.json', 'w')"
   ]
  },
  {
   "cell_type": "code",
   "execution_count": 12,
   "metadata": {},
   "outputs": [
    {
     "name": "stderr",
     "output_type": "stream",
     "text": [
      "IOPub data rate exceeded.\n",
      "The notebook server will temporarily stop sending output\n",
      "to the client in order to avoid crashing it.\n",
      "To change this limit, set the config variable\n",
      "`--NotebookApp.iopub_data_rate_limit`.\n"
     ]
    }
   ],
   "source": [
    "json.dumps(data, clean, indent=4)"
   ]
  },
  {
   "cell_type": "code",
   "execution_count": 13,
   "metadata": {
    "collapsed": true
   },
   "outputs": [],
   "source": [
    "m = 'GoogleNews-vectors-negative300.bin.gz'\n",
    "if m.endswith('.vec.gz'):\n",
    "    model = gensim.models.KeyedVectors.load_word2vec_format(m, binary=False, limit=500000)\n",
    "elif m.endswith('.bin.gz'):\n",
    "    model = gensim.models.KeyedVectors.load_word2vec_format(m, binary=True, limit=500000)\n",
    "else:\n",
    "    model = gensim.models.KeyedVectors.load_word2vec_format(m, limit=500000)"
   ]
  },
  {
   "cell_type": "code",
   "execution_count": 14,
   "metadata": {
    "collapsed": true
   },
   "outputs": [],
   "source": [
    "model.init_sims(replace=True)"
   ]
  },
  {
   "cell_type": "code",
   "execution_count": 15,
   "metadata": {},
   "outputs": [
    {
     "data": {
      "text/plain": [
       "[('dogs', 0.8680489659309387),\n",
       " ('puppy', 0.8106428980827332),\n",
       " ('pit_bull', 0.7803961038589478),\n",
       " ('pooch', 0.7627376914024353),\n",
       " ('cat', 0.760945737361908),\n",
       " ('golden_retriever', 0.7500901222229004),\n",
       " ('German_shepherd', 0.7465174198150635),\n",
       " ('Rottweiler', 0.7437615394592285),\n",
       " ('beagle', 0.7418621778488159),\n",
       " ('pup', 0.7406911253929138)]"
      ]
     },
     "execution_count": 15,
     "metadata": {},
     "output_type": "execute_result"
    }
   ],
   "source": [
    "model.most_similar('dog')"
   ]
  },
  {
   "cell_type": "code",
   "execution_count": 16,
   "metadata": {
    "collapsed": true
   },
   "outputs": [],
   "source": [
    "seqs = []\n",
    "unknown = {}\n",
    "vw = []"
   ]
  },
  {
   "cell_type": "code",
   "execution_count": 17,
   "metadata": {
    "collapsed": true
   },
   "outputs": [],
   "source": [
    "def prepare_for_conv(data, seqs=[]):\n",
    "    for i in data:\n",
    "        d = {}\n",
    "        d['q'] = []\n",
    "        d['a'] = []\n",
    "        for word in i['q'].translate(translation).split():\n",
    "            try:\n",
    "                d['q'].append(model[word])\n",
    "                vw.append((model[word], word))\n",
    "            except KeyError:\n",
    "                if word not in unknown:\n",
    "                    vw.append((v, word))\n",
    "                    v = np.random.rand(300)\n",
    "                    d['q'].append(v)\n",
    "                    vw.append((v, word))\n",
    "                    unknown[word] = v\n",
    "        for word in i['a'].translate(translation).split():\n",
    "            try:\n",
    "                d['a'].append(model[word])\n",
    "                vw.append((model[word], word))\n",
    "            except KeyError:\n",
    "                v = np.random.rand(300)\n",
    "                d['a'].append(v)\n",
    "                vw.append((v, word))\n",
    "                unknown[word] = v\n",
    "        seqs.append(d)\n",
    "    return seqs"
   ]
  },
  {
   "cell_type": "code",
   "execution_count": 18,
   "metadata": {
    "collapsed": true
   },
   "outputs": [],
   "source": [
    "seqs = prepare_for_conv(data, seqs=seqs)"
   ]
  },
  {
   "cell_type": "code",
   "execution_count": 19,
   "metadata": {
    "scrolled": true
   },
   "outputs": [
    {
     "data": {
      "text/plain": [
       "(array([-0.00868645,  0.05772586,  0.05735818,  0.01902747, -0.09375856,\n",
       "         0.02996597,  0.05772586, -0.08052205,  0.06618251,  0.07096236,\n",
       "         0.04485704, -0.11251027, -0.05257833,  0.02224468, -0.09633233,\n",
       "         0.09339087,  0.01893555,  0.01553451,  0.0255538 , -0.026473  ,\n",
       "         0.00772129,  0.05000456,  0.09339087, -0.08015437, -0.00058886,\n",
       "         0.03070133, -0.02178508, -0.03860646,  0.04301863,  0.01553451,\n",
       "        -0.02150932, -0.04007719, -0.00657229, -0.00661825,  0.01296074,\n",
       "         0.0332751 , -0.01856787,  0.06985932,  0.02684068,  0.1213346 ,\n",
       "        -0.03934183,  0.04191559,  0.01682139, -0.0465116 , -0.04283479,\n",
       "         0.01535067, -0.04375399, -0.02757605,  0.02261236,  0.08456654,\n",
       "        -0.0797867 ,  0.10736274, -0.02068204, -0.0683886 ,  0.09192015,\n",
       "         0.03989335, -0.01204154, -0.09192015,  0.0948616 ,  0.01525875,\n",
       "        -0.00131561, -0.00356191, -0.07280076,  0.00597481, -0.02757605,\n",
       "        -0.05368137,  0.03437814,  0.00799705,  0.02086588, -0.08787567,\n",
       "         0.03051749,  0.01314458,  0.05037225,  0.02445076, -0.04687928,\n",
       "        -0.05551977, -0.02252044, -0.00914606,  0.03106901,  0.15957339,\n",
       "        -0.04853384, -0.03640038,  0.0025278 ,  0.02849525, -0.13604183,\n",
       "        -0.12648213, -0.00597481,  0.07647757, -0.00827281, -0.01360418,\n",
       "         0.01985475,  0.04081255, -0.12206997,  0.03033365,  0.00136731,\n",
       "         0.00503263,  0.06507947,  0.0606673 , -0.03842263,  0.04412168,\n",
       "        -0.03198821,  0.03180438,  0.01645371, -0.01222538, -0.02481844,\n",
       "        -0.03272358, -0.04890152,  0.00491773, -0.07941902, -0.04632776,\n",
       "         0.00703189, -0.05441673,  0.05147529,  0.07684525,  0.11986388,\n",
       "        -0.01856787,  0.05110761,  0.00212565, -0.04412168,  0.00836473,\n",
       "        -0.03125285,  0.01636179,  0.01066274, -0.02408308,  0.06213802,\n",
       "         0.00648037, -0.08493423,  0.04448935, -0.01066274, -0.08493423,\n",
       "        -0.03621654, -0.14339544, -0.0118577 , -0.03915799,  0.16030875,\n",
       "        -0.16030875, -0.00827281, -0.03989335, -0.05662281,  0.09228784,\n",
       "         0.04816616, -0.02288812, -0.03364278,  0.01397186,  0.09044943,\n",
       "        -0.08566958,  0.07463916, -0.09853841,  0.01902747,  0.002298  ,\n",
       "         0.02031435, -0.01792443, -0.06949164,  0.02114164,  0.01930323,\n",
       "        -0.08750799, -0.02959829, -0.0332751 ,  0.00388363, -0.00146498,\n",
       "        -0.03456198,  0.01728099, -0.03382662,  0.01884363,  0.04062871,\n",
       "         0.0255538 ,  0.0606673 , -0.00213714, -0.02169316,  0.09559696,\n",
       "        -0.05478441,  0.08750799,  0.05257833, -0.06875627, -0.05735818,\n",
       "         0.1272175 ,  0.07537453, -0.08714031, -0.04265095, -0.11324563,\n",
       "        -0.0834635 , -0.04375399,  0.04191559, -0.02353156,  0.02739221,\n",
       "         0.10000913, -0.03088517, -0.00540031,  0.0104789 ,  0.00263121,\n",
       "        -0.02867909, -0.01305266,  0.10589202, -0.03658422,  0.04118023,\n",
       "        -0.1308943 , -0.06875627,  0.03566502,  0.01948707, -0.05478441,\n",
       "        -0.03309125,  0.01314458, -0.0474308 ,  0.04375399, -0.07831597,\n",
       "         0.09044943, -0.07794829, -0.01126022,  0.03106901, -0.01240922,\n",
       "         0.01360418,  0.07758061, -0.02959829, -0.04632776, -0.11103955,\n",
       "         0.00739957,  0.09633233,  0.01222538, -0.03382662,  0.04504088,\n",
       "        -0.02150932, -0.0104789 , -0.0665502 ,  0.03731958,  0.07500685,\n",
       "        -0.08419886,  0.02867909, -0.00526243, -0.05147529,  0.01801635,\n",
       "         0.02500228,  0.00082728,  0.06029962,  0.03529734,  0.00283803,\n",
       "        -0.03934183, -0.00135008,  0.03125285, -0.04026103,  0.07941902,\n",
       "        -0.00988142, -0.03658422,  0.01015718, -0.07169772, -0.00988142,\n",
       "        -0.0113981 ,  0.0588289 ,  0.02886293,  0.04228327, -0.0446732 ,\n",
       "         0.08125742,  0.09706768,  0.01424762,  0.1272175 ,  0.08934639,\n",
       "        -0.09927377,  0.02665685,  0.00471091,  0.01516683, -0.0341943 ,\n",
       "        -0.00213714, -0.05735818, -0.06765323, -0.04099639, -0.05221065,\n",
       "         0.06287339, -0.00625057,  0.00652633, -0.11324563,  0.04118023,\n",
       "        -0.06985932,  0.09375856,  0.1500137 ,  0.0492692 , -0.0255538 ,\n",
       "        -0.00638845,  0.00634249, -0.08456654, -0.03364278, -0.02288812,\n",
       "         0.07243308, -0.03180438,  0.01452338,  0.11545172, -0.01433954,\n",
       "         0.01433954, -0.09375856, -0.07610989, -0.01737291,  0.04540856,\n",
       "        -0.04154791,  0.00202224, -0.04632776, -0.02270428, -0.0474308 ,\n",
       "        -0.15663195,  0.05184297,  0.05441673,  0.05000456, -0.03235589], dtype=float32),\n",
       " 'What')"
      ]
     },
     "execution_count": 19,
     "metadata": {},
     "output_type": "execute_result"
    }
   ],
   "source": [
    "vw[0]"
   ]
  },
  {
   "cell_type": "code",
   "execution_count": 23,
   "metadata": {},
   "outputs": [],
   "source": [
    "import tensorflow as ff\n",
    "import data_utils as du\n",
    "import seq2seq_model as seqseq"
   ]
  },
  {
   "cell_type": "code",
   "execution_count": 24,
   "metadata": {
    "collapsed": true
   },
   "outputs": [],
   "source": [
    "from sklearn.model_selection import train_test_split as skspl"
   ]
  },
  {
   "cell_type": "code",
   "execution_count": 25,
   "metadata": {
    "collapsed": true
   },
   "outputs": [],
   "source": [
    "qs = [i['q'] for i in data]\n",
    "ans = [i['a'] for i in data]"
   ]
  },
  {
   "cell_type": "code",
   "execution_count": 28,
   "metadata": {
    "collapsed": true
   },
   "outputs": [
    {
     "data": {
      "text/plain": [
       "\"Depends of what type of person you are and of what you want. Mathematics is perfection, is fiction, is pure logic. You can have two points of view on mathematics: It is a world that  you build  by creating your functions, setting your rules, seing what happens then. Or it is a world that starts to exists once you have settled the undemonstrable basic rules and that  you discover. Physics is also pretty much perfect in its theories but is way more applicative. You observe and measure. From that you build models that have the goal to fit the most yours observations. And then, you do your best to  prove yourself wrong.  If you fail to prove yourself wrong, then maybe your theory/model is close to reality. Often researchers discover/measure new things that will disprove models and in these cases new models are created to fit the “measured” reality. And the “ultimate goal” is to find a model that answers everything (energetic, matter, laws of physics, aso..) I would say that both are really enjoyable and astounding. In my case, I really prefer mathematics because I am the dreaming/geeky/living in fiction type of person and because I sense too much bounderies in our universe possibilities. So, short answer: both are nice, and the better is subjective and really depends on you. (It is only my opinion, I am no expert on the subject; also, sorry for bad english, french being my mothertongue.) Are Physics majors better at mathematics than Math majors? What is the role of mathematics in physics? How can we use mathematics and physics to live better? Why do we need mathematics to explain physics? I have two options front of me. One is doing an honors physics major amd the other one is a physics major with mathematics minor. Which one is... I majored in physics because I hated math. Not that physics isn't all math. But physics makes math make sense. Frankly, I found that the way math is taught by mathematicians overemphasizes A Right Way To Do Math that made math taught by many mathematicians distinctly unenjoyable. In one math course in particular, a professor launched into a minute-long tirade when asked the simple question by a student, “How is this applied?” The answer from another student that the concepts being studied were used in combinatorial chemistry and quantum mechanics brought that professor's enmity for the rest of that student's attendance at the university. Let me ask a counter question . Who is better father , mother , sister , brother We cannot answer right? Because all four are equally important. Physics , Mathematics , Chemistry all are important , interconnected. It is our perception that makes them different and better over one other. All are study of nature in their pure form. It depends on your interest which makes one better than other. If a physicist is brilliant in maths, it would be useful for him as he can use the maths into the derivations effortlessly. and he'd be a better phyisicist! However knowing too much physics won’t help a mathematician in any way. It would be preposterous for a mathematician, as he won't be able to use it in any sort of way! And without mathematical proofs, physics would be nothing more than some collection of facts! This interpretation puts the mathematician onto the higher position. However I've developed greater fondness towards physics recently. So I'm really not in the position to answer this question! :P\""
      ]
     },
     "execution_count": 28,
     "metadata": {},
     "output_type": "execute_result"
    }
   ],
   "source": [
    "ans[6]"
   ]
  },
  {
   "cell_type": "code",
   "execution_count": 30,
   "metadata": {},
   "outputs": [],
   "source": [
    "X_train, X_test, y_train, y_test = skspl(qs, ans, test_size=0.15)"
   ]
  },
  {
   "cell_type": "code",
   "execution_count": 31,
   "metadata": {
    "collapsed": true
   },
   "outputs": [],
   "source": [
    "with open('train.en', 'w') as en:\n",
    "    for i in X_train:\n",
    "        en.write(i+'\\n')"
   ]
  },
  {
   "cell_type": "code",
   "execution_count": 32,
   "metadata": {
    "collapsed": true
   },
   "outputs": [],
   "source": [
    "with open('train.fr', 'w') as en:\n",
    "    for i in y_train:\n",
    "        en.write(i+'\\n')"
   ]
  },
  {
   "cell_type": "code",
   "execution_count": 33,
   "metadata": {
    "collapsed": true
   },
   "outputs": [],
   "source": [
    "with open('test.en', 'w') as en:\n",
    "    for i in X_test:\n",
    "        en.write(i+'\\n')"
   ]
  },
  {
   "cell_type": "code",
   "execution_count": 34,
   "metadata": {
    "collapsed": true
   },
   "outputs": [],
   "source": [
    "with open('test.fr', 'w') as en:\n",
    "    for i in y_test:\n",
    "        en.write(i+'\\n')"
   ]
  },
  {
   "cell_type": "code",
   "execution_count": null,
   "metadata": {
    "collapsed": true
   },
   "outputs": [],
   "source": [
    "/home/algernon/quora_links"
   ]
  }
 ],
 "metadata": {
  "kernelspec": {
   "display_name": "Python 3",
   "language": "python",
   "name": "python3"
  },
  "language_info": {
   "codemirror_mode": {
    "name": "ipython",
    "version": 3
   },
   "file_extension": ".py",
   "mimetype": "text/x-python",
   "name": "python",
   "nbconvert_exporter": "python",
   "pygments_lexer": "ipython3",
   "version": "3.5.2"
  }
 },
 "nbformat": 4,
 "nbformat_minor": 2
}
